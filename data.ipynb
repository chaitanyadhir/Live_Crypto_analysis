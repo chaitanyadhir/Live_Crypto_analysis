{
 "cells": [
  {
   "cell_type": "code",
   "execution_count": 10,
   "metadata": {},
   "outputs": [],
   "source": [
    "import requests\n",
    "import pandas as pd\n",
    "import plotly.express as px\n",
    "import plotly.graph_objects as go\n",
    "from IPython.display import clear_output\n",
    "import time\n",
    "from datetime import datetime\n",
    "from openpyxl import Workbook\n",
    "from openpyxl.styles import PatternFill, Font, Alignment\n",
    "from openpyxl.utils import get_column_letter\n"
   ]
  },
  {
   "cell_type": "code",
   "execution_count": 3,
   "metadata": {},
   "outputs": [],
   "source": [
    "def fetch_crypto_data():\n",
    "    url = \"https://api.coingecko.com/api/v3/coins/markets\"\n",
    "    params = {\n",
    "        'vs_currency': 'usd',\n",
    "        'order': 'market_cap_desc',\n",
    "        'per_page': 50,\n",
    "        'page': 1,\n",
    "        'sparkline': False\n",
    "    }\n",
    "    \n",
    "    response = requests.get(url, params=params)\n",
    "    data = response.json()\n",
    "    \n",
    "    df = pd.DataFrame(data)[['name', 'symbol', 'current_price', 'market_cap', \n",
    "                           'total_volume', 'price_change_percentage_24h',\n",
    "                           'high_24h', 'low_24h']]\n",
    "    \n",
    "    df.columns = ['Name', 'Symbol', 'Price_USD', 'Market_Cap', 'Volume_24h',\n",
    "                 'Price_Change_24h', 'High_24h', 'Low_24h']\n",
    "    return df"
   ]
  },
  {
   "cell_type": "code",
   "execution_count": 4,
   "metadata": {},
   "outputs": [],
   "source": [
    "def analyze_crypto_data(df):\n",
    "    \n",
    "    total_market_cap = df['Market_Cap'].sum()\n",
    "    top_5_market_cap = df.nlargest(5, 'Market_Cap')[['Name', 'Market_Cap', 'Price_USD']]\n",
    "    \n",
    "    best_performers = df.nlargest(3, 'Price_Change_24h')[['Name', 'Price_Change_24h']]\n",
    "    worst_performers = df.nsmallest(3, 'Price_Change_24h')[['Name', 'Price_Change_24h']]\n",
    "    \n",
    "    high_volume = df.nlargest(5, 'Volume_24h')[['Name', 'Volume_24h']]\n",
    "    \n",
    "    df['Volatility'] = ((df['High_24h'] - df['Low_24h']) / df['Low_24h'] * 100)\n",
    "    most_volatile = df.nlargest(5, 'Volatility')[['Name', 'Volatility']]\n",
    "    \n",
    "    return {\n",
    "        'total_market_cap': total_market_cap,\n",
    "        'top_5_market_cap': top_5_market_cap,\n",
    "        'best_performers': best_performers,\n",
    "        'worst_performers': worst_performers,\n",
    "        'high_volume': high_volume,\n",
    "        'most_volatile': most_volatile\n",
    "    }"
   ]
  },
  {
   "cell_type": "code",
   "execution_count": 5,
   "metadata": {},
   "outputs": [],
   "source": [
    "def create_visualizations(df):\n",
    "    \"\"\"Create interactive visualizations of the crypto data\"\"\"\n",
    "    \n",
    "    market_cap_fig = px.treemap(df, \n",
    "                               path=['Name'],\n",
    "                               values='Market_Cap',\n",
    "                               title='Market Cap Distribution')\n",
    "    \n",
    "    price_change_fig = px.bar(df.nlargest(10, 'Market_Cap'),\n",
    "                             x='Name',\n",
    "                             y='Price_Change_24h',\n",
    "                             title='Price Change % (24h) for Top 10 Cryptocurrencies')\n",
    "    \n",
    "    volume_market_fig = px.scatter(df,\n",
    "                                  x='Market_Cap',\n",
    "                                  y='Volume_24h',\n",
    "                                  text='Name',\n",
    "                                  title='Volume vs Market Cap',\n",
    "                                  log_x=True,\n",
    "                                  log_y=True)\n",
    "    \n",
    "    return market_cap_fig, price_change_fig, volume_market_fig"
   ]
  },
  {
   "cell_type": "code",
   "execution_count": 6,
   "metadata": {},
   "outputs": [],
   "source": [
    "def create_market_cap_treemap(df):\n",
    "    \n",
    "    total_market_cap = df['Market_Cap'].sum()\n",
    "    df['Market_Cap_Percentage'] = (df['Market_Cap'] / total_market_cap * 100).round(2)\n",
    "    \n",
    "    df['Market_Cap_Display'] = df['Market_Cap'].apply(lambda x: f\"${x:,.0f}\")\n",
    "    \n",
    "    df['CustomText'] = df.apply(lambda row: (\n",
    "        f\"Name: {row['Name']}<br>\" +\n",
    "        f\"Market Cap: {row['Market_Cap_Display']}<br>\" +\n",
    "        f\"Market Share: {row['Market_Cap_Percentage']}%<br>\" +\n",
    "        f\"Price: ${row['Price_USD']:,.2f}<br>\" +\n",
    "        f\"24h Change: {row['Price_Change_24h']:.2f}%\"\n",
    "    ), axis=1)\n",
    "    \n",
    "    fig = px.treemap(\n",
    "        df,\n",
    "        path=['Name'],\n",
    "        values='Market_Cap',\n",
    "        custom_data=['CustomText'], \n",
    "        color='Price_Change_24h',   \n",
    "        color_continuous_scale='RdYlGn',  \n",
    "        title='Cryptocurrency Market Cap Distribution'\n",
    "    )\n",
    "    \n",
    "    fig.update_traces(\n",
    "        textinfo=\"label+value\",\n",
    "        hovertemplate=\"%{customdata[0]}<extra></extra>\", \n",
    "        textfont=dict(size=16),\n",
    "    )\n",
    "    \n",
    "    fig.update_layout(\n",
    "        uniformtext=dict(minsize=10),\n",
    "        coloraxis_colorbar=dict(\n",
    "            title=\"24h Price Change %\"\n",
    "        ),\n",
    "        margin=dict(t=50, l=25, r=25, b=25)\n",
    "    )\n",
    "    \n",
    "    return fig"
   ]
  },
  {
   "cell_type": "code",
   "execution_count": 7,
   "metadata": {},
   "outputs": [],
   "source": [
    "def live_crypto_analysis():\n",
    "    \"\"\"Perform live analysis with 5-minute updates\"\"\"\n",
    "    while True:\n",
    "        clear_output(wait=True)\n",
    "        \n",
    "        df = fetch_crypto_data()\n",
    "        analysis = analyze_crypto_data(df)\n",
    "        \n",
    "        print(f\"Last Updated: {datetime.now().strftime('%Y-%m-%d %H:%M:%S')}\")\n",
    "        \n",
    "        print(\"\\n=== Market Overview ===\")\n",
    "        print(f\"Total Market Cap: ${analysis['total_market_cap']:,.2f}\")\n",
    "        \n",
    "        print(\"\\n=== Top 5 by Market Cap ===\")\n",
    "        print(analysis['top_5_market_cap'].to_string())\n",
    "        \n",
    "        print(\"\\n=== Best Performers (24h) ===\")\n",
    "        print(analysis['best_performers'].to_string())\n",
    "        \n",
    "        print(\"\\n=== Worst Performers (24h) ===\")\n",
    "        print(analysis['worst_performers'].to_string())\n",
    "        \n",
    "        print(\"\\n=== Most Volatile (24h) ===\")\n",
    "        print(analysis['most_volatile'].to_string())\n",
    "        \n",
    "        market_cap_fig, price_change_fig, volume_market_fig = create_visualizations(df)\n",
    "        market_cap_fig.show()\n",
    "        price_change_fig.show()\n",
    "        volume_market_fig.show()\n",
    "        treemap_fig = create_market_cap_treemap(df)\n",
    "        treemap_fig.show()\n",
    "        \n",
    "        time.sleep(300)"
   ]
  },
  {
   "cell_type": "markdown",
   "metadata": {},
   "source": [
    "I WILL RUN THIS BELOW LIVE CRYPTO ANALYSIS AT END AFTER EXCECUTING THE EXCEL CELLS BECAUSE IT IS EVERUNNING SCRIPT AS IT NEEDS TO BE UPDATED EVERY 5 MIN"
   ]
  },
  {
   "cell_type": "code",
   "execution_count": null,
   "metadata": {},
   "outputs": [],
   "source": [
    "# live_crypto_analysis()"
   ]
  },
  {
   "cell_type": "markdown",
   "metadata": {},
   "source": [
    "NOW UNDER IS THE CODE FOR CREATING EXCEL FILE WITH ALL THE KEY POINT COLUMNS WHICH CHANGE EVERY 5 MINUTES."
   ]
  },
  {
   "cell_type": "code",
   "execution_count": 11,
   "metadata": {},
   "outputs": [],
   "source": [
    "def format_excel_sheet(ws):\n",
    "\n",
    "    header_fill = PatternFill(start_color=\"1F4E78\", end_color=\"1F4E78\", fill_type=\"solid\")\n",
    "    header_font = Font(color=\"FFFFFF\", bold=True)\n",
    "    \n",
    "    for cell in ws[1]:\n",
    "        cell.fill = header_fill\n",
    "        cell.font = header_font\n",
    "        cell.alignment = Alignment(horizontal='center')\n",
    "    \n",
    "    for column in ws.columns:\n",
    "        max_length = 0\n",
    "        column_letter = get_column_letter(column[0].column)\n",
    "        \n",
    "        for cell in column:\n",
    "            try:\n",
    "                max_length = max(max_length, len(str(cell.value)))\n",
    "            except:\n",
    "                pass\n",
    "            \n",
    "        adjusted_width = max_length + 2\n",
    "        ws.column_dimensions[column_letter].width = adjusted_width"
   ]
  },
  {
   "cell_type": "code",
   "execution_count": 12,
   "metadata": {},
   "outputs": [],
   "source": [
    "def update_excel_report(df, analysis):\n",
    "    \"\"\"Create/update Excel report with latest data\"\"\"\n",
    "    file_name = 'crypto_live_data.xlsx'\n",
    "    \n",
    "    with pd.ExcelWriter(file_name, engine='openpyxl') as writer:\n",
    "        df.to_excel(writer, sheet_name='Live Data', index=False)\n",
    "        \n",
    "        analysis_data = pd.DataFrame([\n",
    "            {'Metric': 'Total Market Cap', \n",
    "             'Value': f\"${analysis['total_market_cap']:,.2f}\"},\n",
    "            {'Metric': 'Top Cryptocurrency', \n",
    "             'Value': analysis['top_5_market_cap'].iloc[0]['Name']},\n",
    "            {'Metric': 'Best Performer (24h)', \n",
    "             'Value': f\"{analysis['best_performers'].iloc[0]['Name']} ({analysis['best_performers'].iloc[0]['Price_Change_24h']:.2f}%)\"},\n",
    "            {'Metric': 'Worst Performer (24h)', \n",
    "             'Value': f\"{analysis['worst_performers'].iloc[0]['Name']} ({analysis['worst_performers'].iloc[0]['Price_Change_24h']:.2f}%)\"},\n",
    "            {'Metric': 'Last Updated', \n",
    "             'Value': datetime.now().strftime('%Y-%m-%d %H:%M:%S')}\n",
    "        ])\n",
    "        analysis_data.to_excel(writer, sheet_name='Analysis', index=False)\n",
    "        \n",
    "        top_5_data = df.head()\n",
    "        top_5_data.to_excel(writer, sheet_name='Top 5 Crypto', index=False)\n",
    "        \n",
    "        for sheet_name in writer.sheets:\n",
    "            format_excel_sheet(writer.sheets[sheet_name])\n",
    "    \n",
    "    print(f\"Excel report updated at {datetime.now().strftime('%Y-%m-%d %H:%M:%S')}\")\n",
    "    return file_name"
   ]
  },
  {
   "cell_type": "code",
   "execution_count": 13,
   "metadata": {},
   "outputs": [],
   "source": [
    "def live_crypto_analysis_with_excel():\n",
    "    \"\"\"Perform live analysis with Excel updates every 5 minutes\"\"\"\n",
    "    while True:\n",
    "        clear_output(wait=True)\n",
    "        \n",
    "        df = fetch_crypto_data()\n",
    "        analysis = analyze_crypto_data(df)\n",
    "        \n",
    "        excel_file = update_excel_report(df, analysis)\n",
    "        \n",
    "        print(f\"Last Updated: {datetime.now().strftime('%Y-%m-%d %H:%M:%S')}\")\n",
    "        print(f\"Excel report updated: {excel_file}\")\n",
    "        \n",
    "        print(\"\\n=== Market Overview ===\")\n",
    "        print(f\"Total Market Cap: ${analysis['total_market_cap']:,.2f}\")\n",
    "        \n",
    "        print(\"\\n=== Top 5 by Market Cap ===\")\n",
    "        print(analysis['top_5_market_cap'].to_string())\n",
    "        \n",
    "        print(\"\\n=== Best Performers (24h) ===\")\n",
    "        print(analysis['best_performers'].to_string())\n",
    "        \n",
    "        print(\"\\n=== Worst Performers (24h) ===\")\n",
    "        print(analysis['worst_performers'].to_string())\n",
    "        \n",
    "        treemap_fig = create_market_cap_treemap(df)\n",
    "        treemap_fig.show()\n",
    "        \n",
    "        time.sleep(300)"
   ]
  },
  {
   "cell_type": "code",
   "execution_count": 14,
   "metadata": {},
   "outputs": [
    {
     "name": "stdout",
     "output_type": "stream",
     "text": [
      "Excel report updated at 2025-02-11 14:15:51\n",
      "Excel report created: crypto_live_data.xlsx\n"
     ]
    }
   ],
   "source": [
    "df = fetch_crypto_data()\n",
    "analysis = analyze_crypto_data(df)\n",
    "excel_file = update_excel_report(df, analysis)\n",
    "print(f\"Excel report created: {excel_file}\")"
   ]
  },
  {
   "cell_type": "code",
   "execution_count": null,
   "metadata": {},
   "outputs": [
    {
     "name": "stdout",
     "output_type": "stream",
     "text": [
      "Last Updated: 2025-02-11 14:36:27\n",
      "\n",
      "=== Market Overview ===\n",
      "Total Market Cap: $3,176,314,476,538.00\n",
      "\n",
      "=== Top 5 by Market Cap ===\n",
      "       Name     Market_Cap  Price_USD\n",
      "0   Bitcoin  1946604393771   98194.00\n",
      "1  Ethereum   327326690295    2715.77\n",
      "2       XRP   144769678616       2.50\n",
      "3    Tether   141897018030       1.00\n",
      "4    Solana   100067219506     204.99\n",
      "\n",
      "=== Best Performers (24h) ===\n",
      "        Name  Price_Change_24h\n",
      "8    Cardano          14.68936\n",
      "17  Litecoin          12.02749\n",
      "15       Sui          11.18719\n",
      "\n",
      "=== Worst Performers (24h) ===\n",
      "      Name  Price_Change_24h\n",
      "30  MANTRA          -2.60531\n",
      "44   sUSDS          -0.36209\n",
      "22    USDS          -0.09330\n",
      "\n",
      "=== Most Volatile (24h) ===\n",
      "         Name  Volatility\n",
      "8     Cardano   17.329995\n",
      "40  Bittensor   13.444764\n",
      "17   Litecoin   13.356933\n",
      "15        Sui   11.949686\n",
      "33       Pepe   10.432034\n"
     ]
    },
    {
     "data": {
      "application/vnd.plotly.v1+json": {
       "config": {
        "plotlyServerURL": "https://plot.ly"
       },
       "data": [
        {
         "branchvalues": "total",
         "domain": {
          "x": [
           0,
           1
          ],
          "y": [
           0,
           1
          ]
         },
         "hovertemplate": "labels=%{label}<br>Market_Cap=%{value}<br>parent=%{parent}<br>id=%{id}<extra></extra>",
         "ids": [
          "Bitcoin",
          "Ethereum",
          "XRP",
          "Tether",
          "Solana",
          "BNB",
          "USDC",
          "Dogecoin",
          "Cardano",
          "Lido Staked Ether",
          "TRON",
          "Wrapped Bitcoin",
          "Chainlink",
          "Avalanche",
          "Wrapped stETH",
          "Sui",
          "Stellar",
          "Litecoin",
          "Toncoin",
          "Shiba Inu",
          "Hedera",
          "LEO Token",
          "USDS",
          "Hyperliquid",
          "WETH",
          "Polkadot",
          "Bitget Token",
          "Bitcoin Cash",
          "Ethena USDe",
          "Uniswap",
          "MANTRA",
          "Wrapped eETH",
          "Ondo",
          "Pepe",
          "Monero",
          "WhiteBIT Coin",
          "NEAR Protocol",
          "Aave",
          "Aptos",
          "Mantle",
          "Bittensor",
          "Internet Computer",
          "Dai",
          "Official Trump",
          "sUSDS",
          "Ethereum Classic",
          "OKB",
          "VeChain",
          "POL (ex-MATIC)",
          "Gate"
         ],
         "labels": [
          "Bitcoin",
          "Ethereum",
          "XRP",
          "Tether",
          "Solana",
          "BNB",
          "USDC",
          "Dogecoin",
          "Cardano",
          "Lido Staked Ether",
          "TRON",
          "Wrapped Bitcoin",
          "Chainlink",
          "Avalanche",
          "Wrapped stETH",
          "Sui",
          "Stellar",
          "Litecoin",
          "Toncoin",
          "Shiba Inu",
          "Hedera",
          "LEO Token",
          "USDS",
          "Hyperliquid",
          "WETH",
          "Polkadot",
          "Bitget Token",
          "Bitcoin Cash",
          "Ethena USDe",
          "Uniswap",
          "MANTRA",
          "Wrapped eETH",
          "Ondo",
          "Pepe",
          "Monero",
          "WhiteBIT Coin",
          "NEAR Protocol",
          "Aave",
          "Aptos",
          "Mantle",
          "Bittensor",
          "Internet Computer",
          "Dai",
          "Official Trump",
          "sUSDS",
          "Ethereum Classic",
          "OKB",
          "VeChain",
          "POL (ex-MATIC)",
          "Gate"
         ],
         "name": "",
         "parents": [
          "",
          "",
          "",
          "",
          "",
          "",
          "",
          "",
          "",
          "",
          "",
          "",
          "",
          "",
          "",
          "",
          "",
          "",
          "",
          "",
          "",
          "",
          "",
          "",
          "",
          "",
          "",
          "",
          "",
          "",
          "",
          "",
          "",
          "",
          "",
          "",
          "",
          "",
          "",
          "",
          "",
          "",
          "",
          "",
          "",
          "",
          "",
          "",
          "",
          ""
         ],
         "type": "treemap",
         "values": {
          "bdata": "ALBSnapTfEIAwP06jA1TQgAAjP542kBCAABXVdyEQEIAADKYeEw3QgAAXueazjVCAAAUIr8xKkIAAGieFWYiQgAAZNWoBRtCAADoXsLCF0IAABiTp8MTQgAAaFhBlAdCAABQNbJWB0IAAFDJO6IEQgAAgI1GjQRCAADYxI6IBEIAAEhKoCsDQgAAcArYTQJCAACILq0QAkIAAJDrfQECQgAACJZEagFCAAAopAEDAUIAABBqeyz/QQAAkKLEx/5BAADw8KOD/UEAADA0cUn9QQAAsEwQ5PxBAACwvkZF+UEAAPAw1Y72QQAAIBLXXvZBAACAZ0u19UEAALBshV70QQAAwOOrePBBAACQx2RZ8EEAAICVRX/uQQAAIOCvvO1BAACAj/Od7UEAACCztEftQQAAwGUAKetBAAAg7Yic6kEAAOARAo7qQQAAAPXxhOpBAADA7wT06UEAACAwmJzoQQAAAA7jI+hBAAAAq8Ll50EAAKDIFYjmQQAAILLggOVBAACgqWDi5EEAAEBVMcbkQQ==",
          "dtype": "f8"
         }
        }
       ],
       "layout": {
        "legend": {
         "tracegroupgap": 0
        },
        "template": {
         "data": {
          "bar": [
           {
            "error_x": {
             "color": "#2a3f5f"
            },
            "error_y": {
             "color": "#2a3f5f"
            },
            "marker": {
             "line": {
              "color": "#E5ECF6",
              "width": 0.5
             },
             "pattern": {
              "fillmode": "overlay",
              "size": 10,
              "solidity": 0.2
             }
            },
            "type": "bar"
           }
          ],
          "barpolar": [
           {
            "marker": {
             "line": {
              "color": "#E5ECF6",
              "width": 0.5
             },
             "pattern": {
              "fillmode": "overlay",
              "size": 10,
              "solidity": 0.2
             }
            },
            "type": "barpolar"
           }
          ],
          "carpet": [
           {
            "aaxis": {
             "endlinecolor": "#2a3f5f",
             "gridcolor": "white",
             "linecolor": "white",
             "minorgridcolor": "white",
             "startlinecolor": "#2a3f5f"
            },
            "baxis": {
             "endlinecolor": "#2a3f5f",
             "gridcolor": "white",
             "linecolor": "white",
             "minorgridcolor": "white",
             "startlinecolor": "#2a3f5f"
            },
            "type": "carpet"
           }
          ],
          "choropleth": [
           {
            "colorbar": {
             "outlinewidth": 0,
             "ticks": ""
            },
            "type": "choropleth"
           }
          ],
          "contour": [
           {
            "colorbar": {
             "outlinewidth": 0,
             "ticks": ""
            },
            "colorscale": [
             [
              0,
              "#0d0887"
             ],
             [
              0.1111111111111111,
              "#46039f"
             ],
             [
              0.2222222222222222,
              "#7201a8"
             ],
             [
              0.3333333333333333,
              "#9c179e"
             ],
             [
              0.4444444444444444,
              "#bd3786"
             ],
             [
              0.5555555555555556,
              "#d8576b"
             ],
             [
              0.6666666666666666,
              "#ed7953"
             ],
             [
              0.7777777777777778,
              "#fb9f3a"
             ],
             [
              0.8888888888888888,
              "#fdca26"
             ],
             [
              1,
              "#f0f921"
             ]
            ],
            "type": "contour"
           }
          ],
          "contourcarpet": [
           {
            "colorbar": {
             "outlinewidth": 0,
             "ticks": ""
            },
            "type": "contourcarpet"
           }
          ],
          "heatmap": [
           {
            "colorbar": {
             "outlinewidth": 0,
             "ticks": ""
            },
            "colorscale": [
             [
              0,
              "#0d0887"
             ],
             [
              0.1111111111111111,
              "#46039f"
             ],
             [
              0.2222222222222222,
              "#7201a8"
             ],
             [
              0.3333333333333333,
              "#9c179e"
             ],
             [
              0.4444444444444444,
              "#bd3786"
             ],
             [
              0.5555555555555556,
              "#d8576b"
             ],
             [
              0.6666666666666666,
              "#ed7953"
             ],
             [
              0.7777777777777778,
              "#fb9f3a"
             ],
             [
              0.8888888888888888,
              "#fdca26"
             ],
             [
              1,
              "#f0f921"
             ]
            ],
            "type": "heatmap"
           }
          ],
          "histogram": [
           {
            "marker": {
             "pattern": {
              "fillmode": "overlay",
              "size": 10,
              "solidity": 0.2
             }
            },
            "type": "histogram"
           }
          ],
          "histogram2d": [
           {
            "colorbar": {
             "outlinewidth": 0,
             "ticks": ""
            },
            "colorscale": [
             [
              0,
              "#0d0887"
             ],
             [
              0.1111111111111111,
              "#46039f"
             ],
             [
              0.2222222222222222,
              "#7201a8"
             ],
             [
              0.3333333333333333,
              "#9c179e"
             ],
             [
              0.4444444444444444,
              "#bd3786"
             ],
             [
              0.5555555555555556,
              "#d8576b"
             ],
             [
              0.6666666666666666,
              "#ed7953"
             ],
             [
              0.7777777777777778,
              "#fb9f3a"
             ],
             [
              0.8888888888888888,
              "#fdca26"
             ],
             [
              1,
              "#f0f921"
             ]
            ],
            "type": "histogram2d"
           }
          ],
          "histogram2dcontour": [
           {
            "colorbar": {
             "outlinewidth": 0,
             "ticks": ""
            },
            "colorscale": [
             [
              0,
              "#0d0887"
             ],
             [
              0.1111111111111111,
              "#46039f"
             ],
             [
              0.2222222222222222,
              "#7201a8"
             ],
             [
              0.3333333333333333,
              "#9c179e"
             ],
             [
              0.4444444444444444,
              "#bd3786"
             ],
             [
              0.5555555555555556,
              "#d8576b"
             ],
             [
              0.6666666666666666,
              "#ed7953"
             ],
             [
              0.7777777777777778,
              "#fb9f3a"
             ],
             [
              0.8888888888888888,
              "#fdca26"
             ],
             [
              1,
              "#f0f921"
             ]
            ],
            "type": "histogram2dcontour"
           }
          ],
          "mesh3d": [
           {
            "colorbar": {
             "outlinewidth": 0,
             "ticks": ""
            },
            "type": "mesh3d"
           }
          ],
          "parcoords": [
           {
            "line": {
             "colorbar": {
              "outlinewidth": 0,
              "ticks": ""
             }
            },
            "type": "parcoords"
           }
          ],
          "pie": [
           {
            "automargin": true,
            "type": "pie"
           }
          ],
          "scatter": [
           {
            "fillpattern": {
             "fillmode": "overlay",
             "size": 10,
             "solidity": 0.2
            },
            "type": "scatter"
           }
          ],
          "scatter3d": [
           {
            "line": {
             "colorbar": {
              "outlinewidth": 0,
              "ticks": ""
             }
            },
            "marker": {
             "colorbar": {
              "outlinewidth": 0,
              "ticks": ""
             }
            },
            "type": "scatter3d"
           }
          ],
          "scattercarpet": [
           {
            "marker": {
             "colorbar": {
              "outlinewidth": 0,
              "ticks": ""
             }
            },
            "type": "scattercarpet"
           }
          ],
          "scattergeo": [
           {
            "marker": {
             "colorbar": {
              "outlinewidth": 0,
              "ticks": ""
             }
            },
            "type": "scattergeo"
           }
          ],
          "scattergl": [
           {
            "marker": {
             "colorbar": {
              "outlinewidth": 0,
              "ticks": ""
             }
            },
            "type": "scattergl"
           }
          ],
          "scattermap": [
           {
            "marker": {
             "colorbar": {
              "outlinewidth": 0,
              "ticks": ""
             }
            },
            "type": "scattermap"
           }
          ],
          "scattermapbox": [
           {
            "marker": {
             "colorbar": {
              "outlinewidth": 0,
              "ticks": ""
             }
            },
            "type": "scattermapbox"
           }
          ],
          "scatterpolar": [
           {
            "marker": {
             "colorbar": {
              "outlinewidth": 0,
              "ticks": ""
             }
            },
            "type": "scatterpolar"
           }
          ],
          "scatterpolargl": [
           {
            "marker": {
             "colorbar": {
              "outlinewidth": 0,
              "ticks": ""
             }
            },
            "type": "scatterpolargl"
           }
          ],
          "scatterternary": [
           {
            "marker": {
             "colorbar": {
              "outlinewidth": 0,
              "ticks": ""
             }
            },
            "type": "scatterternary"
           }
          ],
          "surface": [
           {
            "colorbar": {
             "outlinewidth": 0,
             "ticks": ""
            },
            "colorscale": [
             [
              0,
              "#0d0887"
             ],
             [
              0.1111111111111111,
              "#46039f"
             ],
             [
              0.2222222222222222,
              "#7201a8"
             ],
             [
              0.3333333333333333,
              "#9c179e"
             ],
             [
              0.4444444444444444,
              "#bd3786"
             ],
             [
              0.5555555555555556,
              "#d8576b"
             ],
             [
              0.6666666666666666,
              "#ed7953"
             ],
             [
              0.7777777777777778,
              "#fb9f3a"
             ],
             [
              0.8888888888888888,
              "#fdca26"
             ],
             [
              1,
              "#f0f921"
             ]
            ],
            "type": "surface"
           }
          ],
          "table": [
           {
            "cells": {
             "fill": {
              "color": "#EBF0F8"
             },
             "line": {
              "color": "white"
             }
            },
            "header": {
             "fill": {
              "color": "#C8D4E3"
             },
             "line": {
              "color": "white"
             }
            },
            "type": "table"
           }
          ]
         },
         "layout": {
          "annotationdefaults": {
           "arrowcolor": "#2a3f5f",
           "arrowhead": 0,
           "arrowwidth": 1
          },
          "autotypenumbers": "strict",
          "coloraxis": {
           "colorbar": {
            "outlinewidth": 0,
            "ticks": ""
           }
          },
          "colorscale": {
           "diverging": [
            [
             0,
             "#8e0152"
            ],
            [
             0.1,
             "#c51b7d"
            ],
            [
             0.2,
             "#de77ae"
            ],
            [
             0.3,
             "#f1b6da"
            ],
            [
             0.4,
             "#fde0ef"
            ],
            [
             0.5,
             "#f7f7f7"
            ],
            [
             0.6,
             "#e6f5d0"
            ],
            [
             0.7,
             "#b8e186"
            ],
            [
             0.8,
             "#7fbc41"
            ],
            [
             0.9,
             "#4d9221"
            ],
            [
             1,
             "#276419"
            ]
           ],
           "sequential": [
            [
             0,
             "#0d0887"
            ],
            [
             0.1111111111111111,
             "#46039f"
            ],
            [
             0.2222222222222222,
             "#7201a8"
            ],
            [
             0.3333333333333333,
             "#9c179e"
            ],
            [
             0.4444444444444444,
             "#bd3786"
            ],
            [
             0.5555555555555556,
             "#d8576b"
            ],
            [
             0.6666666666666666,
             "#ed7953"
            ],
            [
             0.7777777777777778,
             "#fb9f3a"
            ],
            [
             0.8888888888888888,
             "#fdca26"
            ],
            [
             1,
             "#f0f921"
            ]
           ],
           "sequentialminus": [
            [
             0,
             "#0d0887"
            ],
            [
             0.1111111111111111,
             "#46039f"
            ],
            [
             0.2222222222222222,
             "#7201a8"
            ],
            [
             0.3333333333333333,
             "#9c179e"
            ],
            [
             0.4444444444444444,
             "#bd3786"
            ],
            [
             0.5555555555555556,
             "#d8576b"
            ],
            [
             0.6666666666666666,
             "#ed7953"
            ],
            [
             0.7777777777777778,
             "#fb9f3a"
            ],
            [
             0.8888888888888888,
             "#fdca26"
            ],
            [
             1,
             "#f0f921"
            ]
           ]
          },
          "colorway": [
           "#636efa",
           "#EF553B",
           "#00cc96",
           "#ab63fa",
           "#FFA15A",
           "#19d3f3",
           "#FF6692",
           "#B6E880",
           "#FF97FF",
           "#FECB52"
          ],
          "font": {
           "color": "#2a3f5f"
          },
          "geo": {
           "bgcolor": "white",
           "lakecolor": "white",
           "landcolor": "#E5ECF6",
           "showlakes": true,
           "showland": true,
           "subunitcolor": "white"
          },
          "hoverlabel": {
           "align": "left"
          },
          "hovermode": "closest",
          "mapbox": {
           "style": "light"
          },
          "paper_bgcolor": "white",
          "plot_bgcolor": "#E5ECF6",
          "polar": {
           "angularaxis": {
            "gridcolor": "white",
            "linecolor": "white",
            "ticks": ""
           },
           "bgcolor": "#E5ECF6",
           "radialaxis": {
            "gridcolor": "white",
            "linecolor": "white",
            "ticks": ""
           }
          },
          "scene": {
           "xaxis": {
            "backgroundcolor": "#E5ECF6",
            "gridcolor": "white",
            "gridwidth": 2,
            "linecolor": "white",
            "showbackground": true,
            "ticks": "",
            "zerolinecolor": "white"
           },
           "yaxis": {
            "backgroundcolor": "#E5ECF6",
            "gridcolor": "white",
            "gridwidth": 2,
            "linecolor": "white",
            "showbackground": true,
            "ticks": "",
            "zerolinecolor": "white"
           },
           "zaxis": {
            "backgroundcolor": "#E5ECF6",
            "gridcolor": "white",
            "gridwidth": 2,
            "linecolor": "white",
            "showbackground": true,
            "ticks": "",
            "zerolinecolor": "white"
           }
          },
          "shapedefaults": {
           "line": {
            "color": "#2a3f5f"
           }
          },
          "ternary": {
           "aaxis": {
            "gridcolor": "white",
            "linecolor": "white",
            "ticks": ""
           },
           "baxis": {
            "gridcolor": "white",
            "linecolor": "white",
            "ticks": ""
           },
           "bgcolor": "#E5ECF6",
           "caxis": {
            "gridcolor": "white",
            "linecolor": "white",
            "ticks": ""
           }
          },
          "title": {
           "x": 0.05
          },
          "xaxis": {
           "automargin": true,
           "gridcolor": "white",
           "linecolor": "white",
           "ticks": "",
           "title": {
            "standoff": 15
           },
           "zerolinecolor": "white",
           "zerolinewidth": 2
          },
          "yaxis": {
           "automargin": true,
           "gridcolor": "white",
           "linecolor": "white",
           "ticks": "",
           "title": {
            "standoff": 15
           },
           "zerolinecolor": "white",
           "zerolinewidth": 2
          }
         }
        },
        "title": {
         "text": "Market Cap Distribution"
        }
       }
      }
     },
     "metadata": {},
     "output_type": "display_data"
    },
    {
     "data": {
      "application/vnd.plotly.v1+json": {
       "config": {
        "plotlyServerURL": "https://plot.ly"
       },
       "data": [
        {
         "hovertemplate": "Name=%{x}<br>Price_Change_24h=%{y}<extra></extra>",
         "legendgroup": "",
         "marker": {
          "color": "#636efa",
          "pattern": {
           "shape": ""
          }
         },
         "name": "",
         "orientation": "v",
         "showlegend": false,
         "textposition": "auto",
         "type": "bar",
         "x": [
          "Bitcoin",
          "Ethereum",
          "XRP",
          "Tether",
          "Solana",
          "BNB",
          "USDC",
          "Dogecoin",
          "Cardano",
          "Lido Staked Ether"
         ],
         "xaxis": "x",
         "y": {
          "bdata": "S+oENBE23j9L5e0Ip4UFQCeIug9A6gVA0NA/wcWKSj/j32dcOBCiv3Yaaam8fRhA/dmPFJFhZb/JPPIHAw8XQFRXPsvzYC1AIHu9++M9BUA=",
          "dtype": "f8"
         },
         "yaxis": "y"
        }
       ],
       "layout": {
        "barmode": "relative",
        "legend": {
         "tracegroupgap": 0
        },
        "template": {
         "data": {
          "bar": [
           {
            "error_x": {
             "color": "#2a3f5f"
            },
            "error_y": {
             "color": "#2a3f5f"
            },
            "marker": {
             "line": {
              "color": "#E5ECF6",
              "width": 0.5
             },
             "pattern": {
              "fillmode": "overlay",
              "size": 10,
              "solidity": 0.2
             }
            },
            "type": "bar"
           }
          ],
          "barpolar": [
           {
            "marker": {
             "line": {
              "color": "#E5ECF6",
              "width": 0.5
             },
             "pattern": {
              "fillmode": "overlay",
              "size": 10,
              "solidity": 0.2
             }
            },
            "type": "barpolar"
           }
          ],
          "carpet": [
           {
            "aaxis": {
             "endlinecolor": "#2a3f5f",
             "gridcolor": "white",
             "linecolor": "white",
             "minorgridcolor": "white",
             "startlinecolor": "#2a3f5f"
            },
            "baxis": {
             "endlinecolor": "#2a3f5f",
             "gridcolor": "white",
             "linecolor": "white",
             "minorgridcolor": "white",
             "startlinecolor": "#2a3f5f"
            },
            "type": "carpet"
           }
          ],
          "choropleth": [
           {
            "colorbar": {
             "outlinewidth": 0,
             "ticks": ""
            },
            "type": "choropleth"
           }
          ],
          "contour": [
           {
            "colorbar": {
             "outlinewidth": 0,
             "ticks": ""
            },
            "colorscale": [
             [
              0,
              "#0d0887"
             ],
             [
              0.1111111111111111,
              "#46039f"
             ],
             [
              0.2222222222222222,
              "#7201a8"
             ],
             [
              0.3333333333333333,
              "#9c179e"
             ],
             [
              0.4444444444444444,
              "#bd3786"
             ],
             [
              0.5555555555555556,
              "#d8576b"
             ],
             [
              0.6666666666666666,
              "#ed7953"
             ],
             [
              0.7777777777777778,
              "#fb9f3a"
             ],
             [
              0.8888888888888888,
              "#fdca26"
             ],
             [
              1,
              "#f0f921"
             ]
            ],
            "type": "contour"
           }
          ],
          "contourcarpet": [
           {
            "colorbar": {
             "outlinewidth": 0,
             "ticks": ""
            },
            "type": "contourcarpet"
           }
          ],
          "heatmap": [
           {
            "colorbar": {
             "outlinewidth": 0,
             "ticks": ""
            },
            "colorscale": [
             [
              0,
              "#0d0887"
             ],
             [
              0.1111111111111111,
              "#46039f"
             ],
             [
              0.2222222222222222,
              "#7201a8"
             ],
             [
              0.3333333333333333,
              "#9c179e"
             ],
             [
              0.4444444444444444,
              "#bd3786"
             ],
             [
              0.5555555555555556,
              "#d8576b"
             ],
             [
              0.6666666666666666,
              "#ed7953"
             ],
             [
              0.7777777777777778,
              "#fb9f3a"
             ],
             [
              0.8888888888888888,
              "#fdca26"
             ],
             [
              1,
              "#f0f921"
             ]
            ],
            "type": "heatmap"
           }
          ],
          "histogram": [
           {
            "marker": {
             "pattern": {
              "fillmode": "overlay",
              "size": 10,
              "solidity": 0.2
             }
            },
            "type": "histogram"
           }
          ],
          "histogram2d": [
           {
            "colorbar": {
             "outlinewidth": 0,
             "ticks": ""
            },
            "colorscale": [
             [
              0,
              "#0d0887"
             ],
             [
              0.1111111111111111,
              "#46039f"
             ],
             [
              0.2222222222222222,
              "#7201a8"
             ],
             [
              0.3333333333333333,
              "#9c179e"
             ],
             [
              0.4444444444444444,
              "#bd3786"
             ],
             [
              0.5555555555555556,
              "#d8576b"
             ],
             [
              0.6666666666666666,
              "#ed7953"
             ],
             [
              0.7777777777777778,
              "#fb9f3a"
             ],
             [
              0.8888888888888888,
              "#fdca26"
             ],
             [
              1,
              "#f0f921"
             ]
            ],
            "type": "histogram2d"
           }
          ],
          "histogram2dcontour": [
           {
            "colorbar": {
             "outlinewidth": 0,
             "ticks": ""
            },
            "colorscale": [
             [
              0,
              "#0d0887"
             ],
             [
              0.1111111111111111,
              "#46039f"
             ],
             [
              0.2222222222222222,
              "#7201a8"
             ],
             [
              0.3333333333333333,
              "#9c179e"
             ],
             [
              0.4444444444444444,
              "#bd3786"
             ],
             [
              0.5555555555555556,
              "#d8576b"
             ],
             [
              0.6666666666666666,
              "#ed7953"
             ],
             [
              0.7777777777777778,
              "#fb9f3a"
             ],
             [
              0.8888888888888888,
              "#fdca26"
             ],
             [
              1,
              "#f0f921"
             ]
            ],
            "type": "histogram2dcontour"
           }
          ],
          "mesh3d": [
           {
            "colorbar": {
             "outlinewidth": 0,
             "ticks": ""
            },
            "type": "mesh3d"
           }
          ],
          "parcoords": [
           {
            "line": {
             "colorbar": {
              "outlinewidth": 0,
              "ticks": ""
             }
            },
            "type": "parcoords"
           }
          ],
          "pie": [
           {
            "automargin": true,
            "type": "pie"
           }
          ],
          "scatter": [
           {
            "fillpattern": {
             "fillmode": "overlay",
             "size": 10,
             "solidity": 0.2
            },
            "type": "scatter"
           }
          ],
          "scatter3d": [
           {
            "line": {
             "colorbar": {
              "outlinewidth": 0,
              "ticks": ""
             }
            },
            "marker": {
             "colorbar": {
              "outlinewidth": 0,
              "ticks": ""
             }
            },
            "type": "scatter3d"
           }
          ],
          "scattercarpet": [
           {
            "marker": {
             "colorbar": {
              "outlinewidth": 0,
              "ticks": ""
             }
            },
            "type": "scattercarpet"
           }
          ],
          "scattergeo": [
           {
            "marker": {
             "colorbar": {
              "outlinewidth": 0,
              "ticks": ""
             }
            },
            "type": "scattergeo"
           }
          ],
          "scattergl": [
           {
            "marker": {
             "colorbar": {
              "outlinewidth": 0,
              "ticks": ""
             }
            },
            "type": "scattergl"
           }
          ],
          "scattermap": [
           {
            "marker": {
             "colorbar": {
              "outlinewidth": 0,
              "ticks": ""
             }
            },
            "type": "scattermap"
           }
          ],
          "scattermapbox": [
           {
            "marker": {
             "colorbar": {
              "outlinewidth": 0,
              "ticks": ""
             }
            },
            "type": "scattermapbox"
           }
          ],
          "scatterpolar": [
           {
            "marker": {
             "colorbar": {
              "outlinewidth": 0,
              "ticks": ""
             }
            },
            "type": "scatterpolar"
           }
          ],
          "scatterpolargl": [
           {
            "marker": {
             "colorbar": {
              "outlinewidth": 0,
              "ticks": ""
             }
            },
            "type": "scatterpolargl"
           }
          ],
          "scatterternary": [
           {
            "marker": {
             "colorbar": {
              "outlinewidth": 0,
              "ticks": ""
             }
            },
            "type": "scatterternary"
           }
          ],
          "surface": [
           {
            "colorbar": {
             "outlinewidth": 0,
             "ticks": ""
            },
            "colorscale": [
             [
              0,
              "#0d0887"
             ],
             [
              0.1111111111111111,
              "#46039f"
             ],
             [
              0.2222222222222222,
              "#7201a8"
             ],
             [
              0.3333333333333333,
              "#9c179e"
             ],
             [
              0.4444444444444444,
              "#bd3786"
             ],
             [
              0.5555555555555556,
              "#d8576b"
             ],
             [
              0.6666666666666666,
              "#ed7953"
             ],
             [
              0.7777777777777778,
              "#fb9f3a"
             ],
             [
              0.8888888888888888,
              "#fdca26"
             ],
             [
              1,
              "#f0f921"
             ]
            ],
            "type": "surface"
           }
          ],
          "table": [
           {
            "cells": {
             "fill": {
              "color": "#EBF0F8"
             },
             "line": {
              "color": "white"
             }
            },
            "header": {
             "fill": {
              "color": "#C8D4E3"
             },
             "line": {
              "color": "white"
             }
            },
            "type": "table"
           }
          ]
         },
         "layout": {
          "annotationdefaults": {
           "arrowcolor": "#2a3f5f",
           "arrowhead": 0,
           "arrowwidth": 1
          },
          "autotypenumbers": "strict",
          "coloraxis": {
           "colorbar": {
            "outlinewidth": 0,
            "ticks": ""
           }
          },
          "colorscale": {
           "diverging": [
            [
             0,
             "#8e0152"
            ],
            [
             0.1,
             "#c51b7d"
            ],
            [
             0.2,
             "#de77ae"
            ],
            [
             0.3,
             "#f1b6da"
            ],
            [
             0.4,
             "#fde0ef"
            ],
            [
             0.5,
             "#f7f7f7"
            ],
            [
             0.6,
             "#e6f5d0"
            ],
            [
             0.7,
             "#b8e186"
            ],
            [
             0.8,
             "#7fbc41"
            ],
            [
             0.9,
             "#4d9221"
            ],
            [
             1,
             "#276419"
            ]
           ],
           "sequential": [
            [
             0,
             "#0d0887"
            ],
            [
             0.1111111111111111,
             "#46039f"
            ],
            [
             0.2222222222222222,
             "#7201a8"
            ],
            [
             0.3333333333333333,
             "#9c179e"
            ],
            [
             0.4444444444444444,
             "#bd3786"
            ],
            [
             0.5555555555555556,
             "#d8576b"
            ],
            [
             0.6666666666666666,
             "#ed7953"
            ],
            [
             0.7777777777777778,
             "#fb9f3a"
            ],
            [
             0.8888888888888888,
             "#fdca26"
            ],
            [
             1,
             "#f0f921"
            ]
           ],
           "sequentialminus": [
            [
             0,
             "#0d0887"
            ],
            [
             0.1111111111111111,
             "#46039f"
            ],
            [
             0.2222222222222222,
             "#7201a8"
            ],
            [
             0.3333333333333333,
             "#9c179e"
            ],
            [
             0.4444444444444444,
             "#bd3786"
            ],
            [
             0.5555555555555556,
             "#d8576b"
            ],
            [
             0.6666666666666666,
             "#ed7953"
            ],
            [
             0.7777777777777778,
             "#fb9f3a"
            ],
            [
             0.8888888888888888,
             "#fdca26"
            ],
            [
             1,
             "#f0f921"
            ]
           ]
          },
          "colorway": [
           "#636efa",
           "#EF553B",
           "#00cc96",
           "#ab63fa",
           "#FFA15A",
           "#19d3f3",
           "#FF6692",
           "#B6E880",
           "#FF97FF",
           "#FECB52"
          ],
          "font": {
           "color": "#2a3f5f"
          },
          "geo": {
           "bgcolor": "white",
           "lakecolor": "white",
           "landcolor": "#E5ECF6",
           "showlakes": true,
           "showland": true,
           "subunitcolor": "white"
          },
          "hoverlabel": {
           "align": "left"
          },
          "hovermode": "closest",
          "mapbox": {
           "style": "light"
          },
          "paper_bgcolor": "white",
          "plot_bgcolor": "#E5ECF6",
          "polar": {
           "angularaxis": {
            "gridcolor": "white",
            "linecolor": "white",
            "ticks": ""
           },
           "bgcolor": "#E5ECF6",
           "radialaxis": {
            "gridcolor": "white",
            "linecolor": "white",
            "ticks": ""
           }
          },
          "scene": {
           "xaxis": {
            "backgroundcolor": "#E5ECF6",
            "gridcolor": "white",
            "gridwidth": 2,
            "linecolor": "white",
            "showbackground": true,
            "ticks": "",
            "zerolinecolor": "white"
           },
           "yaxis": {
            "backgroundcolor": "#E5ECF6",
            "gridcolor": "white",
            "gridwidth": 2,
            "linecolor": "white",
            "showbackground": true,
            "ticks": "",
            "zerolinecolor": "white"
           },
           "zaxis": {
            "backgroundcolor": "#E5ECF6",
            "gridcolor": "white",
            "gridwidth": 2,
            "linecolor": "white",
            "showbackground": true,
            "ticks": "",
            "zerolinecolor": "white"
           }
          },
          "shapedefaults": {
           "line": {
            "color": "#2a3f5f"
           }
          },
          "ternary": {
           "aaxis": {
            "gridcolor": "white",
            "linecolor": "white",
            "ticks": ""
           },
           "baxis": {
            "gridcolor": "white",
            "linecolor": "white",
            "ticks": ""
           },
           "bgcolor": "#E5ECF6",
           "caxis": {
            "gridcolor": "white",
            "linecolor": "white",
            "ticks": ""
           }
          },
          "title": {
           "x": 0.05
          },
          "xaxis": {
           "automargin": true,
           "gridcolor": "white",
           "linecolor": "white",
           "ticks": "",
           "title": {
            "standoff": 15
           },
           "zerolinecolor": "white",
           "zerolinewidth": 2
          },
          "yaxis": {
           "automargin": true,
           "gridcolor": "white",
           "linecolor": "white",
           "ticks": "",
           "title": {
            "standoff": 15
           },
           "zerolinecolor": "white",
           "zerolinewidth": 2
          }
         }
        },
        "title": {
         "text": "Price Change % (24h) for Top 10 Cryptocurrencies"
        },
        "xaxis": {
         "anchor": "y",
         "domain": [
          0,
          1
         ],
         "title": {
          "text": "Name"
         }
        },
        "yaxis": {
         "anchor": "x",
         "domain": [
          0,
          1
         ],
         "title": {
          "text": "Price_Change_24h"
         }
        }
       }
      }
     },
     "metadata": {},
     "output_type": "display_data"
    },
    {
     "data": {
      "application/vnd.plotly.v1+json": {
       "config": {
        "plotlyServerURL": "https://plot.ly"
       },
       "data": [
        {
         "hovertemplate": "Market_Cap=%{x}<br>Volume_24h=%{y}<br>Name=%{text}<extra></extra>",
         "legendgroup": "",
         "marker": {
          "color": "#636efa",
          "symbol": "circle"
         },
         "mode": "markers+text",
         "name": "",
         "orientation": "v",
         "showlegend": false,
         "text": [
          "Bitcoin",
          "Ethereum",
          "XRP",
          "Tether",
          "Solana",
          "BNB",
          "USDC",
          "Dogecoin",
          "Cardano",
          "Lido Staked Ether",
          "TRON",
          "Wrapped Bitcoin",
          "Chainlink",
          "Avalanche",
          "Wrapped stETH",
          "Sui",
          "Stellar",
          "Litecoin",
          "Toncoin",
          "Shiba Inu",
          "Hedera",
          "LEO Token",
          "USDS",
          "Hyperliquid",
          "WETH",
          "Polkadot",
          "Bitget Token",
          "Bitcoin Cash",
          "Ethena USDe",
          "Uniswap",
          "MANTRA",
          "Wrapped eETH",
          "Ondo",
          "Pepe",
          "Monero",
          "WhiteBIT Coin",
          "NEAR Protocol",
          "Aave",
          "Aptos",
          "Mantle",
          "Bittensor",
          "Internet Computer",
          "Dai",
          "Official Trump",
          "sUSDS",
          "Ethereum Classic",
          "OKB",
          "VeChain",
          "POL (ex-MATIC)",
          "Gate"
         ],
         "type": "scatter",
         "x": [
          1946604393771,
          327326690295,
          144769678616,
          141897018030,
          100067219506,
          93660571486,
          56251879690,
          39511052084,
          29014766937,
          25512941498,
          21221729478,
          12658944781,
          12529845930,
          11077646634,
          11033694640,
          11023800475,
          10292037961,
          9826926926,
          9698649553,
          9666805106,
          9349665473,
          9133110405,
          8368141985,
          8262535721,
          7922663183,
          7861637955,
          7755334859,
          6783527915,
          6055351055,
          6005027106,
          5827245688,
          5467821771,
          4421500476,
          4388703353,
          4093258924,
          3991240449,
          3975126140,
          3929908633,
          3645375278,
          3571730281,
          3564114063,
          3559362472,
          3483379582,
          3303326081,
          3240040560,
          3207468376,
          3024137797,
          2886141329,
          2803041613,
          2788264618
         ],
         "xaxis": "x",
         "y": [
          27282125808,
          17235687765,
          3927782429,
          34419292654,
          4711980128,
          1186978322,
          8516043058,
          1385746704,
          1243115523,
          64161715,
          795126099,
          256715701,
          546729803,
          320107539,
          43119729,
          1258015879,
          330822664,
          1938189393,
          132645077,
          214443060,
          301431106,
          259879,
          5526448,
          112407533,
          317301340,
          232013544,
          279836250,
          145008825,
          143664988,
          297787985,
          220506283,
          15685090,
          276678900,
          885697838,
          67171902,
          19850795,
          228449644,
          376787636,
          311158024,
          107272067,
          219979470,
          92070865,
          203532863,
          878406536,
          780804,
          96481552,
          10924309,
          53769649,
          78408088,
          15957085
         ],
         "yaxis": "y"
        }
       ],
       "layout": {
        "legend": {
         "tracegroupgap": 0
        },
        "template": {
         "data": {
          "bar": [
           {
            "error_x": {
             "color": "#2a3f5f"
            },
            "error_y": {
             "color": "#2a3f5f"
            },
            "marker": {
             "line": {
              "color": "#E5ECF6",
              "width": 0.5
             },
             "pattern": {
              "fillmode": "overlay",
              "size": 10,
              "solidity": 0.2
             }
            },
            "type": "bar"
           }
          ],
          "barpolar": [
           {
            "marker": {
             "line": {
              "color": "#E5ECF6",
              "width": 0.5
             },
             "pattern": {
              "fillmode": "overlay",
              "size": 10,
              "solidity": 0.2
             }
            },
            "type": "barpolar"
           }
          ],
          "carpet": [
           {
            "aaxis": {
             "endlinecolor": "#2a3f5f",
             "gridcolor": "white",
             "linecolor": "white",
             "minorgridcolor": "white",
             "startlinecolor": "#2a3f5f"
            },
            "baxis": {
             "endlinecolor": "#2a3f5f",
             "gridcolor": "white",
             "linecolor": "white",
             "minorgridcolor": "white",
             "startlinecolor": "#2a3f5f"
            },
            "type": "carpet"
           }
          ],
          "choropleth": [
           {
            "colorbar": {
             "outlinewidth": 0,
             "ticks": ""
            },
            "type": "choropleth"
           }
          ],
          "contour": [
           {
            "colorbar": {
             "outlinewidth": 0,
             "ticks": ""
            },
            "colorscale": [
             [
              0,
              "#0d0887"
             ],
             [
              0.1111111111111111,
              "#46039f"
             ],
             [
              0.2222222222222222,
              "#7201a8"
             ],
             [
              0.3333333333333333,
              "#9c179e"
             ],
             [
              0.4444444444444444,
              "#bd3786"
             ],
             [
              0.5555555555555556,
              "#d8576b"
             ],
             [
              0.6666666666666666,
              "#ed7953"
             ],
             [
              0.7777777777777778,
              "#fb9f3a"
             ],
             [
              0.8888888888888888,
              "#fdca26"
             ],
             [
              1,
              "#f0f921"
             ]
            ],
            "type": "contour"
           }
          ],
          "contourcarpet": [
           {
            "colorbar": {
             "outlinewidth": 0,
             "ticks": ""
            },
            "type": "contourcarpet"
           }
          ],
          "heatmap": [
           {
            "colorbar": {
             "outlinewidth": 0,
             "ticks": ""
            },
            "colorscale": [
             [
              0,
              "#0d0887"
             ],
             [
              0.1111111111111111,
              "#46039f"
             ],
             [
              0.2222222222222222,
              "#7201a8"
             ],
             [
              0.3333333333333333,
              "#9c179e"
             ],
             [
              0.4444444444444444,
              "#bd3786"
             ],
             [
              0.5555555555555556,
              "#d8576b"
             ],
             [
              0.6666666666666666,
              "#ed7953"
             ],
             [
              0.7777777777777778,
              "#fb9f3a"
             ],
             [
              0.8888888888888888,
              "#fdca26"
             ],
             [
              1,
              "#f0f921"
             ]
            ],
            "type": "heatmap"
           }
          ],
          "histogram": [
           {
            "marker": {
             "pattern": {
              "fillmode": "overlay",
              "size": 10,
              "solidity": 0.2
             }
            },
            "type": "histogram"
           }
          ],
          "histogram2d": [
           {
            "colorbar": {
             "outlinewidth": 0,
             "ticks": ""
            },
            "colorscale": [
             [
              0,
              "#0d0887"
             ],
             [
              0.1111111111111111,
              "#46039f"
             ],
             [
              0.2222222222222222,
              "#7201a8"
             ],
             [
              0.3333333333333333,
              "#9c179e"
             ],
             [
              0.4444444444444444,
              "#bd3786"
             ],
             [
              0.5555555555555556,
              "#d8576b"
             ],
             [
              0.6666666666666666,
              "#ed7953"
             ],
             [
              0.7777777777777778,
              "#fb9f3a"
             ],
             [
              0.8888888888888888,
              "#fdca26"
             ],
             [
              1,
              "#f0f921"
             ]
            ],
            "type": "histogram2d"
           }
          ],
          "histogram2dcontour": [
           {
            "colorbar": {
             "outlinewidth": 0,
             "ticks": ""
            },
            "colorscale": [
             [
              0,
              "#0d0887"
             ],
             [
              0.1111111111111111,
              "#46039f"
             ],
             [
              0.2222222222222222,
              "#7201a8"
             ],
             [
              0.3333333333333333,
              "#9c179e"
             ],
             [
              0.4444444444444444,
              "#bd3786"
             ],
             [
              0.5555555555555556,
              "#d8576b"
             ],
             [
              0.6666666666666666,
              "#ed7953"
             ],
             [
              0.7777777777777778,
              "#fb9f3a"
             ],
             [
              0.8888888888888888,
              "#fdca26"
             ],
             [
              1,
              "#f0f921"
             ]
            ],
            "type": "histogram2dcontour"
           }
          ],
          "mesh3d": [
           {
            "colorbar": {
             "outlinewidth": 0,
             "ticks": ""
            },
            "type": "mesh3d"
           }
          ],
          "parcoords": [
           {
            "line": {
             "colorbar": {
              "outlinewidth": 0,
              "ticks": ""
             }
            },
            "type": "parcoords"
           }
          ],
          "pie": [
           {
            "automargin": true,
            "type": "pie"
           }
          ],
          "scatter": [
           {
            "fillpattern": {
             "fillmode": "overlay",
             "size": 10,
             "solidity": 0.2
            },
            "type": "scatter"
           }
          ],
          "scatter3d": [
           {
            "line": {
             "colorbar": {
              "outlinewidth": 0,
              "ticks": ""
             }
            },
            "marker": {
             "colorbar": {
              "outlinewidth": 0,
              "ticks": ""
             }
            },
            "type": "scatter3d"
           }
          ],
          "scattercarpet": [
           {
            "marker": {
             "colorbar": {
              "outlinewidth": 0,
              "ticks": ""
             }
            },
            "type": "scattercarpet"
           }
          ],
          "scattergeo": [
           {
            "marker": {
             "colorbar": {
              "outlinewidth": 0,
              "ticks": ""
             }
            },
            "type": "scattergeo"
           }
          ],
          "scattergl": [
           {
            "marker": {
             "colorbar": {
              "outlinewidth": 0,
              "ticks": ""
             }
            },
            "type": "scattergl"
           }
          ],
          "scattermap": [
           {
            "marker": {
             "colorbar": {
              "outlinewidth": 0,
              "ticks": ""
             }
            },
            "type": "scattermap"
           }
          ],
          "scattermapbox": [
           {
            "marker": {
             "colorbar": {
              "outlinewidth": 0,
              "ticks": ""
             }
            },
            "type": "scattermapbox"
           }
          ],
          "scatterpolar": [
           {
            "marker": {
             "colorbar": {
              "outlinewidth": 0,
              "ticks": ""
             }
            },
            "type": "scatterpolar"
           }
          ],
          "scatterpolargl": [
           {
            "marker": {
             "colorbar": {
              "outlinewidth": 0,
              "ticks": ""
             }
            },
            "type": "scatterpolargl"
           }
          ],
          "scatterternary": [
           {
            "marker": {
             "colorbar": {
              "outlinewidth": 0,
              "ticks": ""
             }
            },
            "type": "scatterternary"
           }
          ],
          "surface": [
           {
            "colorbar": {
             "outlinewidth": 0,
             "ticks": ""
            },
            "colorscale": [
             [
              0,
              "#0d0887"
             ],
             [
              0.1111111111111111,
              "#46039f"
             ],
             [
              0.2222222222222222,
              "#7201a8"
             ],
             [
              0.3333333333333333,
              "#9c179e"
             ],
             [
              0.4444444444444444,
              "#bd3786"
             ],
             [
              0.5555555555555556,
              "#d8576b"
             ],
             [
              0.6666666666666666,
              "#ed7953"
             ],
             [
              0.7777777777777778,
              "#fb9f3a"
             ],
             [
              0.8888888888888888,
              "#fdca26"
             ],
             [
              1,
              "#f0f921"
             ]
            ],
            "type": "surface"
           }
          ],
          "table": [
           {
            "cells": {
             "fill": {
              "color": "#EBF0F8"
             },
             "line": {
              "color": "white"
             }
            },
            "header": {
             "fill": {
              "color": "#C8D4E3"
             },
             "line": {
              "color": "white"
             }
            },
            "type": "table"
           }
          ]
         },
         "layout": {
          "annotationdefaults": {
           "arrowcolor": "#2a3f5f",
           "arrowhead": 0,
           "arrowwidth": 1
          },
          "autotypenumbers": "strict",
          "coloraxis": {
           "colorbar": {
            "outlinewidth": 0,
            "ticks": ""
           }
          },
          "colorscale": {
           "diverging": [
            [
             0,
             "#8e0152"
            ],
            [
             0.1,
             "#c51b7d"
            ],
            [
             0.2,
             "#de77ae"
            ],
            [
             0.3,
             "#f1b6da"
            ],
            [
             0.4,
             "#fde0ef"
            ],
            [
             0.5,
             "#f7f7f7"
            ],
            [
             0.6,
             "#e6f5d0"
            ],
            [
             0.7,
             "#b8e186"
            ],
            [
             0.8,
             "#7fbc41"
            ],
            [
             0.9,
             "#4d9221"
            ],
            [
             1,
             "#276419"
            ]
           ],
           "sequential": [
            [
             0,
             "#0d0887"
            ],
            [
             0.1111111111111111,
             "#46039f"
            ],
            [
             0.2222222222222222,
             "#7201a8"
            ],
            [
             0.3333333333333333,
             "#9c179e"
            ],
            [
             0.4444444444444444,
             "#bd3786"
            ],
            [
             0.5555555555555556,
             "#d8576b"
            ],
            [
             0.6666666666666666,
             "#ed7953"
            ],
            [
             0.7777777777777778,
             "#fb9f3a"
            ],
            [
             0.8888888888888888,
             "#fdca26"
            ],
            [
             1,
             "#f0f921"
            ]
           ],
           "sequentialminus": [
            [
             0,
             "#0d0887"
            ],
            [
             0.1111111111111111,
             "#46039f"
            ],
            [
             0.2222222222222222,
             "#7201a8"
            ],
            [
             0.3333333333333333,
             "#9c179e"
            ],
            [
             0.4444444444444444,
             "#bd3786"
            ],
            [
             0.5555555555555556,
             "#d8576b"
            ],
            [
             0.6666666666666666,
             "#ed7953"
            ],
            [
             0.7777777777777778,
             "#fb9f3a"
            ],
            [
             0.8888888888888888,
             "#fdca26"
            ],
            [
             1,
             "#f0f921"
            ]
           ]
          },
          "colorway": [
           "#636efa",
           "#EF553B",
           "#00cc96",
           "#ab63fa",
           "#FFA15A",
           "#19d3f3",
           "#FF6692",
           "#B6E880",
           "#FF97FF",
           "#FECB52"
          ],
          "font": {
           "color": "#2a3f5f"
          },
          "geo": {
           "bgcolor": "white",
           "lakecolor": "white",
           "landcolor": "#E5ECF6",
           "showlakes": true,
           "showland": true,
           "subunitcolor": "white"
          },
          "hoverlabel": {
           "align": "left"
          },
          "hovermode": "closest",
          "mapbox": {
           "style": "light"
          },
          "paper_bgcolor": "white",
          "plot_bgcolor": "#E5ECF6",
          "polar": {
           "angularaxis": {
            "gridcolor": "white",
            "linecolor": "white",
            "ticks": ""
           },
           "bgcolor": "#E5ECF6",
           "radialaxis": {
            "gridcolor": "white",
            "linecolor": "white",
            "ticks": ""
           }
          },
          "scene": {
           "xaxis": {
            "backgroundcolor": "#E5ECF6",
            "gridcolor": "white",
            "gridwidth": 2,
            "linecolor": "white",
            "showbackground": true,
            "ticks": "",
            "zerolinecolor": "white"
           },
           "yaxis": {
            "backgroundcolor": "#E5ECF6",
            "gridcolor": "white",
            "gridwidth": 2,
            "linecolor": "white",
            "showbackground": true,
            "ticks": "",
            "zerolinecolor": "white"
           },
           "zaxis": {
            "backgroundcolor": "#E5ECF6",
            "gridcolor": "white",
            "gridwidth": 2,
            "linecolor": "white",
            "showbackground": true,
            "ticks": "",
            "zerolinecolor": "white"
           }
          },
          "shapedefaults": {
           "line": {
            "color": "#2a3f5f"
           }
          },
          "ternary": {
           "aaxis": {
            "gridcolor": "white",
            "linecolor": "white",
            "ticks": ""
           },
           "baxis": {
            "gridcolor": "white",
            "linecolor": "white",
            "ticks": ""
           },
           "bgcolor": "#E5ECF6",
           "caxis": {
            "gridcolor": "white",
            "linecolor": "white",
            "ticks": ""
           }
          },
          "title": {
           "x": 0.05
          },
          "xaxis": {
           "automargin": true,
           "gridcolor": "white",
           "linecolor": "white",
           "ticks": "",
           "title": {
            "standoff": 15
           },
           "zerolinecolor": "white",
           "zerolinewidth": 2
          },
          "yaxis": {
           "automargin": true,
           "gridcolor": "white",
           "linecolor": "white",
           "ticks": "",
           "title": {
            "standoff": 15
           },
           "zerolinecolor": "white",
           "zerolinewidth": 2
          }
         }
        },
        "title": {
         "text": "Volume vs Market Cap"
        },
        "xaxis": {
         "anchor": "y",
         "domain": [
          0,
          1
         ],
         "title": {
          "text": "Market_Cap"
         },
         "type": "log"
        },
        "yaxis": {
         "anchor": "x",
         "domain": [
          0,
          1
         ],
         "title": {
          "text": "Volume_24h"
         },
         "type": "log"
        }
       }
      }
     },
     "metadata": {},
     "output_type": "display_data"
    },
    {
     "data": {
      "application/vnd.plotly.v1+json": {
       "config": {
        "plotlyServerURL": "https://plot.ly"
       },
       "data": [
        {
         "branchvalues": "total",
         "customdata": [
          [
           "Name: Bitcoin<br>Market Cap: $1,946,604,393,771<br>Market Share: 61.29%<br>Price: $98,194.00<br>24h Change: 0.47%",
           0.47205
          ],
          [
           "Name: Ethereum<br>Market Cap: $327,326,690,295<br>Market Share: 10.31%<br>Price: $2,715.77<br>24h Change: 2.69%",
           2.69026
          ],
          [
           "Name: XRP<br>Market Cap: $144,769,678,616<br>Market Share: 4.56%<br>Price: $2.50<br>24h Change: 2.74%",
           2.73938
          ],
          [
           "Name: Tether<br>Market Cap: $141,897,018,030<br>Market Share: 4.47%<br>Price: $1.00<br>24h Change: 0.00%",
           0.00081
          ],
          [
           "Name: Solana<br>Market Cap: $100,067,219,506<br>Market Share: 3.15%<br>Price: $204.99<br>24h Change: -0.04%",
           -0.03528
          ],
          [
           "Name: BNB<br>Market Cap: $93,660,571,486<br>Market Share: 2.95%<br>Price: $641.97<br>24h Change: 6.12%",
           6.12279
          ],
          [
           "Name: USDC<br>Market Cap: $56,251,879,690<br>Market Share: 1.77%<br>Price: $1.00<br>24h Change: -0.00%",
           -0.0026099999999999995
          ],
          [
           "Name: Dogecoin<br>Market Cap: $39,511,052,084<br>Market Share: 1.24%<br>Price: $0.27<br>24h Change: 5.76%",
           5.76466
          ],
          [
           "Name: Cardano<br>Market Cap: $29,014,766,937<br>Market Share: 0.91%<br>Price: $0.81<br>24h Change: 14.69%",
           14.689360000000002
          ],
          [
           "Name: Lido Staked Ether<br>Market Cap: $25,512,941,498<br>Market Share: 0.8%<br>Price: $2,712.03<br>24h Change: 2.66%",
           2.65522
          ],
          [
           "Name: TRON<br>Market Cap: $21,221,729,478<br>Market Share: 0.67%<br>Price: $0.25<br>24h Change: 3.99%",
           3.9864199999999994
          ],
          [
           "Name: Wrapped Bitcoin<br>Market Cap: $12,658,944,781<br>Market Share: 0.4%<br>Price: $97,993.00<br>24h Change: 0.59%",
           0.59314
          ],
          [
           "Name: Chainlink<br>Market Cap: $12,529,845,930<br>Market Share: 0.39%<br>Price: $19.64<br>24h Change: 4.08%",
           4.08419
          ],
          [
           "Name: Avalanche<br>Market Cap: $11,077,646,634<br>Market Share: 0.35%<br>Price: $26.89<br>24h Change: 4.39%",
           4.39379
          ],
          [
           "Name: Wrapped stETH<br>Market Cap: $11,033,694,640<br>Market Share: 0.35%<br>Price: $3,242.43<br>24h Change: 3.04%",
           3.03765
          ],
          [
           "Name: Sui<br>Market Cap: $11,023,800,475<br>Market Share: 0.35%<br>Price: $3.56<br>24h Change: 11.19%",
           11.18719
          ],
          [
           "Name: Stellar<br>Market Cap: $10,292,037,961<br>Market Share: 0.32%<br>Price: $0.34<br>24h Change: 5.80%",
           5.80336
          ],
          [
           "Name: Litecoin<br>Market Cap: $9,826,926,926<br>Market Share: 0.31%<br>Price: $130.01<br>24h Change: 12.03%",
           12.02749
          ],
          [
           "Name: Toncoin<br>Market Cap: $9,698,649,553<br>Market Share: 0.31%<br>Price: $3.89<br>24h Change: 1.49%",
           1.48809
          ],
          [
           "Name: Shiba Inu<br>Market Cap: $9,666,805,106<br>Market Share: 0.3%<br>Price: $0.00<br>24h Change: 2.41%",
           2.40957
          ],
          [
           "Name: Hedera<br>Market Cap: $9,349,665,473<br>Market Share: 0.29%<br>Price: $0.24<br>24h Change: 1.58%",
           1.57645
          ],
          [
           "Name: LEO Token<br>Market Cap: $9,133,110,405<br>Market Share: 0.29%<br>Price: $9.88<br>24h Change: -0.09%",
           -0.09274
          ],
          [
           "Name: USDS<br>Market Cap: $8,368,141,985<br>Market Share: 0.26%<br>Price: $1.00<br>24h Change: -0.09%",
           -0.0933
          ],
          [
           "Name: Hyperliquid<br>Market Cap: $8,262,535,721<br>Market Share: 0.26%<br>Price: $24.75<br>24h Change: 3.24%",
           3.23724
          ],
          [
           "Name: WETH<br>Market Cap: $7,922,663,183<br>Market Share: 0.25%<br>Price: $2,715.17<br>24h Change: 2.66%",
           2.66461
          ],
          [
           "Name: Polkadot<br>Market Cap: $7,861,637,955<br>Market Share: 0.25%<br>Price: $5.16<br>24h Change: 6.26%",
           6.26109
          ],
          [
           "Name: Bitget Token<br>Market Cap: $7,755,334,859<br>Market Share: 0.24%<br>Price: $6.46<br>24h Change: 0.58%",
           0.58247
          ],
          [
           "Name: Bitcoin Cash<br>Market Cap: $6,783,527,915<br>Market Share: 0.21%<br>Price: $342.02<br>24h Change: 2.60%",
           2.59549
          ],
          [
           "Name: Ethena USDe<br>Market Cap: $6,055,351,055<br>Market Share: 0.19%<br>Price: $1.00<br>24h Change: -0.01%",
           -0.00915
          ],
          [
           "Name: Uniswap<br>Market Cap: $6,005,027,106<br>Market Share: 0.19%<br>Price: $10.00<br>24h Change: 8.74%",
           8.74379
          ],
          [
           "Name: MANTRA<br>Market Cap: $5,827,245,688<br>Market Share: 0.18%<br>Price: $5.99<br>24h Change: -2.61%",
           -2.60531
          ],
          [
           "Name: Wrapped eETH<br>Market Cap: $5,467,821,771<br>Market Share: 0.17%<br>Price: $2,874.59<br>24h Change: 2.63%",
           2.62714
          ],
          [
           "Name: Ondo<br>Market Cap: $4,421,500,476<br>Market Share: 0.14%<br>Price: $1.40<br>24h Change: 4.23%",
           4.2288
          ],
          [
           "Name: Pepe<br>Market Cap: $4,388,703,353<br>Market Share: 0.14%<br>Price: $0.00<br>24h Change: 8.74%",
           8.73915
          ],
          [
           "Name: Monero<br>Market Cap: $4,093,258,924<br>Market Share: 0.13%<br>Price: $222.67<br>24h Change: 0.93%",
           0.92548
          ],
          [
           "Name: WhiteBIT Coin<br>Market Cap: $3,991,240,449<br>Market Share: 0.13%<br>Price: $27.69<br>24h Change: 0.70%",
           0.70118
          ],
          [
           "Name: NEAR Protocol<br>Market Cap: $3,975,126,140<br>Market Share: 0.13%<br>Price: $3.37<br>24h Change: 4.65%",
           4.65288
          ],
          [
           "Name: Aave<br>Market Cap: $3,929,908,633<br>Market Share: 0.12%<br>Price: $260.84<br>24h Change: 4.20%",
           4.2041
          ],
          [
           "Name: Aptos<br>Market Cap: $3,645,375,278<br>Market Share: 0.11%<br>Price: $6.33<br>24h Change: 1.86%",
           1.8574999999999997
          ],
          [
           "Name: Mantle<br>Market Cap: $3,571,730,281<br>Market Share: 0.11%<br>Price: $1.06<br>24h Change: 3.82%",
           3.81769
          ],
          [
           "Name: Bittensor<br>Market Cap: $3,564,114,063<br>Market Share: 0.11%<br>Price: $433.81<br>24h Change: 11.06%",
           11.05663
          ],
          [
           "Name: Internet Computer<br>Market Cap: $3,559,362,472<br>Market Share: 0.11%<br>Price: $7.40<br>24h Change: 3.94%",
           3.94486
          ],
          [
           "Name: Dai<br>Market Cap: $3,483,379,582<br>Market Share: 0.11%<br>Price: $1.00<br>24h Change: 0.02%",
           0.02377
          ],
          [
           "Name: Official Trump<br>Market Cap: $3,303,326,081<br>Market Share: 0.1%<br>Price: $16.51<br>24h Change: 3.01%",
           3.00559
          ],
          [
           "Name: sUSDS<br>Market Cap: $3,240,040,560<br>Market Share: 0.1%<br>Price: $1.03<br>24h Change: -0.36%",
           -0.3620900000000001
          ],
          [
           "Name: Ethereum Classic<br>Market Cap: $3,207,468,376<br>Market Share: 0.1%<br>Price: $21.27<br>24h Change: 3.48%",
           3.4818500000000006
          ],
          [
           "Name: OKB<br>Market Cap: $3,024,137,797<br>Market Share: 0.1%<br>Price: $50.38<br>24h Change: 4.85%",
           4.85326
          ],
          [
           "Name: VeChain<br>Market Cap: $2,886,141,329<br>Market Share: 0.09%<br>Price: $0.04<br>24h Change: 6.82%",
           6.82056
          ],
          [
           "Name: POL (ex-MATIC)<br>Market Cap: $2,803,041,613<br>Market Share: 0.09%<br>Price: $0.33<br>24h Change: 6.21%",
           6.214520000000001
          ],
          [
           "Name: Gate<br>Market Cap: $2,788,264,618<br>Market Share: 0.09%<br>Price: $22.20<br>24h Change: 2.19%",
           2.19389
          ]
         ],
         "domain": {
          "x": [
           0,
           1
          ],
          "y": [
           0,
           1
          ]
         },
         "hovertemplate": "%{customdata[0]}<extra></extra>",
         "ids": [
          "Bitcoin",
          "Ethereum",
          "XRP",
          "Tether",
          "Solana",
          "BNB",
          "USDC",
          "Dogecoin",
          "Cardano",
          "Lido Staked Ether",
          "TRON",
          "Wrapped Bitcoin",
          "Chainlink",
          "Avalanche",
          "Wrapped stETH",
          "Sui",
          "Stellar",
          "Litecoin",
          "Toncoin",
          "Shiba Inu",
          "Hedera",
          "LEO Token",
          "USDS",
          "Hyperliquid",
          "WETH",
          "Polkadot",
          "Bitget Token",
          "Bitcoin Cash",
          "Ethena USDe",
          "Uniswap",
          "MANTRA",
          "Wrapped eETH",
          "Ondo",
          "Pepe",
          "Monero",
          "WhiteBIT Coin",
          "NEAR Protocol",
          "Aave",
          "Aptos",
          "Mantle",
          "Bittensor",
          "Internet Computer",
          "Dai",
          "Official Trump",
          "sUSDS",
          "Ethereum Classic",
          "OKB",
          "VeChain",
          "POL (ex-MATIC)",
          "Gate"
         ],
         "labels": [
          "Bitcoin",
          "Ethereum",
          "XRP",
          "Tether",
          "Solana",
          "BNB",
          "USDC",
          "Dogecoin",
          "Cardano",
          "Lido Staked Ether",
          "TRON",
          "Wrapped Bitcoin",
          "Chainlink",
          "Avalanche",
          "Wrapped stETH",
          "Sui",
          "Stellar",
          "Litecoin",
          "Toncoin",
          "Shiba Inu",
          "Hedera",
          "LEO Token",
          "USDS",
          "Hyperliquid",
          "WETH",
          "Polkadot",
          "Bitget Token",
          "Bitcoin Cash",
          "Ethena USDe",
          "Uniswap",
          "MANTRA",
          "Wrapped eETH",
          "Ondo",
          "Pepe",
          "Monero",
          "WhiteBIT Coin",
          "NEAR Protocol",
          "Aave",
          "Aptos",
          "Mantle",
          "Bittensor",
          "Internet Computer",
          "Dai",
          "Official Trump",
          "sUSDS",
          "Ethereum Classic",
          "OKB",
          "VeChain",
          "POL (ex-MATIC)",
          "Gate"
         ],
         "marker": {
          "coloraxis": "coloraxis",
          "colors": {
           "bdata": "S+oENBE23j9L5e0Ip4UFQCeIug9A6gVA0NA/wcWKSj/j32dcOBCiv3Yaaam8fRhA/NmPFJFhZb/JPPIHAw8XQFVXPsvzYC1AIHu9++M9BUBp9kArMOQPQNBhvrwA++I/2ZlC5zVWEECl942vPZMRQCKOdXEbTQhAx0YgXtdfJkCCqPsApDYXQCDvVSsTDihAARO4dTfP9z+7YduizEYDQJp3nKIjOfk/PfIHA8+9t780gLdAguK3v6BsyhXe5QlAqcE0DB9RBUAlQE0tWwsZQPrVHCCYo+I/pMLYQpDDBEAFNBE2PL2CvwYv+grSfCFAuYjvxKzXBMCGG/D5YQQFQJhMFYxK6hBAQ61p3nF6IUA9RKM7iJ3tPzl/EwoRcOY/lNkgk4ycEkBUdCSX/9AQQLcehetRuP0/QiECDqGKDkDp8Xub/hwmQHNjesISjw9ALPGAsilXmD8lehnFcgsIQF1aDYl7LNe/7p48LNTaC0CZ8Ev9vGkTQICfceFASBtACVqBIavbGEDpK0gzFo0BQA==",
           "dtype": "f8"
          }
         },
         "name": "",
         "parents": [
          "",
          "",
          "",
          "",
          "",
          "",
          "",
          "",
          "",
          "",
          "",
          "",
          "",
          "",
          "",
          "",
          "",
          "",
          "",
          "",
          "",
          "",
          "",
          "",
          "",
          "",
          "",
          "",
          "",
          "",
          "",
          "",
          "",
          "",
          "",
          "",
          "",
          "",
          "",
          "",
          "",
          "",
          "",
          "",
          "",
          "",
          "",
          "",
          "",
          ""
         ],
         "textfont": {
          "size": 16
         },
         "textinfo": "label+value",
         "type": "treemap",
         "values": {
          "bdata": "ALBSnapTfEIAwP06jA1TQgAAjP542kBCAABXVdyEQEIAADKYeEw3QgAAXueazjVCAAAUIr8xKkIAAGieFWYiQgAAZNWoBRtCAADoXsLCF0IAABiTp8MTQgAAaFhBlAdCAABQNbJWB0IAAFDJO6IEQgAAgI1GjQRCAADYxI6IBEIAAEhKoCsDQgAAcArYTQJCAACILq0QAkIAAJDrfQECQgAACJZEagFCAAAopAEDAUIAABBqeyz/QQAAkKLEx/5BAADw8KOD/UEAADA0cUn9QQAAsEwQ5PxBAACwvkZF+UEAAPAw1Y72QQAAIBLXXvZBAACAZ0u19UEAALBshV70QQAAwOOrePBBAACQx2RZ8EEAAICVRX/uQQAAIOCvvO1BAACAj/Od7UEAACCztEftQQAAwGUAKetBAAAg7Yic6kEAAOARAo7qQQAAAPXxhOpBAADA7wT06UEAACAwmJzoQQAAAA7jI+hBAAAAq8Ll50EAAKDIFYjmQQAAILLggOVBAACgqWDi5EEAAEBVMcbkQQ==",
          "dtype": "f8"
         }
        }
       ],
       "layout": {
        "coloraxis": {
         "colorbar": {
          "title": {
           "text": "24h Price Change %"
          }
         },
         "colorscale": [
          [
           0,
           "rgb(165,0,38)"
          ],
          [
           0.1,
           "rgb(215,48,39)"
          ],
          [
           0.2,
           "rgb(244,109,67)"
          ],
          [
           0.3,
           "rgb(253,174,97)"
          ],
          [
           0.4,
           "rgb(254,224,139)"
          ],
          [
           0.5,
           "rgb(255,255,191)"
          ],
          [
           0.6,
           "rgb(217,239,139)"
          ],
          [
           0.7,
           "rgb(166,217,106)"
          ],
          [
           0.8,
           "rgb(102,189,99)"
          ],
          [
           0.9,
           "rgb(26,152,80)"
          ],
          [
           1,
           "rgb(0,104,55)"
          ]
         ]
        },
        "legend": {
         "tracegroupgap": 0
        },
        "margin": {
         "b": 25,
         "l": 25,
         "r": 25,
         "t": 50
        },
        "template": {
         "data": {
          "bar": [
           {
            "error_x": {
             "color": "#2a3f5f"
            },
            "error_y": {
             "color": "#2a3f5f"
            },
            "marker": {
             "line": {
              "color": "#E5ECF6",
              "width": 0.5
             },
             "pattern": {
              "fillmode": "overlay",
              "size": 10,
              "solidity": 0.2
             }
            },
            "type": "bar"
           }
          ],
          "barpolar": [
           {
            "marker": {
             "line": {
              "color": "#E5ECF6",
              "width": 0.5
             },
             "pattern": {
              "fillmode": "overlay",
              "size": 10,
              "solidity": 0.2
             }
            },
            "type": "barpolar"
           }
          ],
          "carpet": [
           {
            "aaxis": {
             "endlinecolor": "#2a3f5f",
             "gridcolor": "white",
             "linecolor": "white",
             "minorgridcolor": "white",
             "startlinecolor": "#2a3f5f"
            },
            "baxis": {
             "endlinecolor": "#2a3f5f",
             "gridcolor": "white",
             "linecolor": "white",
             "minorgridcolor": "white",
             "startlinecolor": "#2a3f5f"
            },
            "type": "carpet"
           }
          ],
          "choropleth": [
           {
            "colorbar": {
             "outlinewidth": 0,
             "ticks": ""
            },
            "type": "choropleth"
           }
          ],
          "contour": [
           {
            "colorbar": {
             "outlinewidth": 0,
             "ticks": ""
            },
            "colorscale": [
             [
              0,
              "#0d0887"
             ],
             [
              0.1111111111111111,
              "#46039f"
             ],
             [
              0.2222222222222222,
              "#7201a8"
             ],
             [
              0.3333333333333333,
              "#9c179e"
             ],
             [
              0.4444444444444444,
              "#bd3786"
             ],
             [
              0.5555555555555556,
              "#d8576b"
             ],
             [
              0.6666666666666666,
              "#ed7953"
             ],
             [
              0.7777777777777778,
              "#fb9f3a"
             ],
             [
              0.8888888888888888,
              "#fdca26"
             ],
             [
              1,
              "#f0f921"
             ]
            ],
            "type": "contour"
           }
          ],
          "contourcarpet": [
           {
            "colorbar": {
             "outlinewidth": 0,
             "ticks": ""
            },
            "type": "contourcarpet"
           }
          ],
          "heatmap": [
           {
            "colorbar": {
             "outlinewidth": 0,
             "ticks": ""
            },
            "colorscale": [
             [
              0,
              "#0d0887"
             ],
             [
              0.1111111111111111,
              "#46039f"
             ],
             [
              0.2222222222222222,
              "#7201a8"
             ],
             [
              0.3333333333333333,
              "#9c179e"
             ],
             [
              0.4444444444444444,
              "#bd3786"
             ],
             [
              0.5555555555555556,
              "#d8576b"
             ],
             [
              0.6666666666666666,
              "#ed7953"
             ],
             [
              0.7777777777777778,
              "#fb9f3a"
             ],
             [
              0.8888888888888888,
              "#fdca26"
             ],
             [
              1,
              "#f0f921"
             ]
            ],
            "type": "heatmap"
           }
          ],
          "histogram": [
           {
            "marker": {
             "pattern": {
              "fillmode": "overlay",
              "size": 10,
              "solidity": 0.2
             }
            },
            "type": "histogram"
           }
          ],
          "histogram2d": [
           {
            "colorbar": {
             "outlinewidth": 0,
             "ticks": ""
            },
            "colorscale": [
             [
              0,
              "#0d0887"
             ],
             [
              0.1111111111111111,
              "#46039f"
             ],
             [
              0.2222222222222222,
              "#7201a8"
             ],
             [
              0.3333333333333333,
              "#9c179e"
             ],
             [
              0.4444444444444444,
              "#bd3786"
             ],
             [
              0.5555555555555556,
              "#d8576b"
             ],
             [
              0.6666666666666666,
              "#ed7953"
             ],
             [
              0.7777777777777778,
              "#fb9f3a"
             ],
             [
              0.8888888888888888,
              "#fdca26"
             ],
             [
              1,
              "#f0f921"
             ]
            ],
            "type": "histogram2d"
           }
          ],
          "histogram2dcontour": [
           {
            "colorbar": {
             "outlinewidth": 0,
             "ticks": ""
            },
            "colorscale": [
             [
              0,
              "#0d0887"
             ],
             [
              0.1111111111111111,
              "#46039f"
             ],
             [
              0.2222222222222222,
              "#7201a8"
             ],
             [
              0.3333333333333333,
              "#9c179e"
             ],
             [
              0.4444444444444444,
              "#bd3786"
             ],
             [
              0.5555555555555556,
              "#d8576b"
             ],
             [
              0.6666666666666666,
              "#ed7953"
             ],
             [
              0.7777777777777778,
              "#fb9f3a"
             ],
             [
              0.8888888888888888,
              "#fdca26"
             ],
             [
              1,
              "#f0f921"
             ]
            ],
            "type": "histogram2dcontour"
           }
          ],
          "mesh3d": [
           {
            "colorbar": {
             "outlinewidth": 0,
             "ticks": ""
            },
            "type": "mesh3d"
           }
          ],
          "parcoords": [
           {
            "line": {
             "colorbar": {
              "outlinewidth": 0,
              "ticks": ""
             }
            },
            "type": "parcoords"
           }
          ],
          "pie": [
           {
            "automargin": true,
            "type": "pie"
           }
          ],
          "scatter": [
           {
            "fillpattern": {
             "fillmode": "overlay",
             "size": 10,
             "solidity": 0.2
            },
            "type": "scatter"
           }
          ],
          "scatter3d": [
           {
            "line": {
             "colorbar": {
              "outlinewidth": 0,
              "ticks": ""
             }
            },
            "marker": {
             "colorbar": {
              "outlinewidth": 0,
              "ticks": ""
             }
            },
            "type": "scatter3d"
           }
          ],
          "scattercarpet": [
           {
            "marker": {
             "colorbar": {
              "outlinewidth": 0,
              "ticks": ""
             }
            },
            "type": "scattercarpet"
           }
          ],
          "scattergeo": [
           {
            "marker": {
             "colorbar": {
              "outlinewidth": 0,
              "ticks": ""
             }
            },
            "type": "scattergeo"
           }
          ],
          "scattergl": [
           {
            "marker": {
             "colorbar": {
              "outlinewidth": 0,
              "ticks": ""
             }
            },
            "type": "scattergl"
           }
          ],
          "scattermap": [
           {
            "marker": {
             "colorbar": {
              "outlinewidth": 0,
              "ticks": ""
             }
            },
            "type": "scattermap"
           }
          ],
          "scattermapbox": [
           {
            "marker": {
             "colorbar": {
              "outlinewidth": 0,
              "ticks": ""
             }
            },
            "type": "scattermapbox"
           }
          ],
          "scatterpolar": [
           {
            "marker": {
             "colorbar": {
              "outlinewidth": 0,
              "ticks": ""
             }
            },
            "type": "scatterpolar"
           }
          ],
          "scatterpolargl": [
           {
            "marker": {
             "colorbar": {
              "outlinewidth": 0,
              "ticks": ""
             }
            },
            "type": "scatterpolargl"
           }
          ],
          "scatterternary": [
           {
            "marker": {
             "colorbar": {
              "outlinewidth": 0,
              "ticks": ""
             }
            },
            "type": "scatterternary"
           }
          ],
          "surface": [
           {
            "colorbar": {
             "outlinewidth": 0,
             "ticks": ""
            },
            "colorscale": [
             [
              0,
              "#0d0887"
             ],
             [
              0.1111111111111111,
              "#46039f"
             ],
             [
              0.2222222222222222,
              "#7201a8"
             ],
             [
              0.3333333333333333,
              "#9c179e"
             ],
             [
              0.4444444444444444,
              "#bd3786"
             ],
             [
              0.5555555555555556,
              "#d8576b"
             ],
             [
              0.6666666666666666,
              "#ed7953"
             ],
             [
              0.7777777777777778,
              "#fb9f3a"
             ],
             [
              0.8888888888888888,
              "#fdca26"
             ],
             [
              1,
              "#f0f921"
             ]
            ],
            "type": "surface"
           }
          ],
          "table": [
           {
            "cells": {
             "fill": {
              "color": "#EBF0F8"
             },
             "line": {
              "color": "white"
             }
            },
            "header": {
             "fill": {
              "color": "#C8D4E3"
             },
             "line": {
              "color": "white"
             }
            },
            "type": "table"
           }
          ]
         },
         "layout": {
          "annotationdefaults": {
           "arrowcolor": "#2a3f5f",
           "arrowhead": 0,
           "arrowwidth": 1
          },
          "autotypenumbers": "strict",
          "coloraxis": {
           "colorbar": {
            "outlinewidth": 0,
            "ticks": ""
           }
          },
          "colorscale": {
           "diverging": [
            [
             0,
             "#8e0152"
            ],
            [
             0.1,
             "#c51b7d"
            ],
            [
             0.2,
             "#de77ae"
            ],
            [
             0.3,
             "#f1b6da"
            ],
            [
             0.4,
             "#fde0ef"
            ],
            [
             0.5,
             "#f7f7f7"
            ],
            [
             0.6,
             "#e6f5d0"
            ],
            [
             0.7,
             "#b8e186"
            ],
            [
             0.8,
             "#7fbc41"
            ],
            [
             0.9,
             "#4d9221"
            ],
            [
             1,
             "#276419"
            ]
           ],
           "sequential": [
            [
             0,
             "#0d0887"
            ],
            [
             0.1111111111111111,
             "#46039f"
            ],
            [
             0.2222222222222222,
             "#7201a8"
            ],
            [
             0.3333333333333333,
             "#9c179e"
            ],
            [
             0.4444444444444444,
             "#bd3786"
            ],
            [
             0.5555555555555556,
             "#d8576b"
            ],
            [
             0.6666666666666666,
             "#ed7953"
            ],
            [
             0.7777777777777778,
             "#fb9f3a"
            ],
            [
             0.8888888888888888,
             "#fdca26"
            ],
            [
             1,
             "#f0f921"
            ]
           ],
           "sequentialminus": [
            [
             0,
             "#0d0887"
            ],
            [
             0.1111111111111111,
             "#46039f"
            ],
            [
             0.2222222222222222,
             "#7201a8"
            ],
            [
             0.3333333333333333,
             "#9c179e"
            ],
            [
             0.4444444444444444,
             "#bd3786"
            ],
            [
             0.5555555555555556,
             "#d8576b"
            ],
            [
             0.6666666666666666,
             "#ed7953"
            ],
            [
             0.7777777777777778,
             "#fb9f3a"
            ],
            [
             0.8888888888888888,
             "#fdca26"
            ],
            [
             1,
             "#f0f921"
            ]
           ]
          },
          "colorway": [
           "#636efa",
           "#EF553B",
           "#00cc96",
           "#ab63fa",
           "#FFA15A",
           "#19d3f3",
           "#FF6692",
           "#B6E880",
           "#FF97FF",
           "#FECB52"
          ],
          "font": {
           "color": "#2a3f5f"
          },
          "geo": {
           "bgcolor": "white",
           "lakecolor": "white",
           "landcolor": "#E5ECF6",
           "showlakes": true,
           "showland": true,
           "subunitcolor": "white"
          },
          "hoverlabel": {
           "align": "left"
          },
          "hovermode": "closest",
          "mapbox": {
           "style": "light"
          },
          "paper_bgcolor": "white",
          "plot_bgcolor": "#E5ECF6",
          "polar": {
           "angularaxis": {
            "gridcolor": "white",
            "linecolor": "white",
            "ticks": ""
           },
           "bgcolor": "#E5ECF6",
           "radialaxis": {
            "gridcolor": "white",
            "linecolor": "white",
            "ticks": ""
           }
          },
          "scene": {
           "xaxis": {
            "backgroundcolor": "#E5ECF6",
            "gridcolor": "white",
            "gridwidth": 2,
            "linecolor": "white",
            "showbackground": true,
            "ticks": "",
            "zerolinecolor": "white"
           },
           "yaxis": {
            "backgroundcolor": "#E5ECF6",
            "gridcolor": "white",
            "gridwidth": 2,
            "linecolor": "white",
            "showbackground": true,
            "ticks": "",
            "zerolinecolor": "white"
           },
           "zaxis": {
            "backgroundcolor": "#E5ECF6",
            "gridcolor": "white",
            "gridwidth": 2,
            "linecolor": "white",
            "showbackground": true,
            "ticks": "",
            "zerolinecolor": "white"
           }
          },
          "shapedefaults": {
           "line": {
            "color": "#2a3f5f"
           }
          },
          "ternary": {
           "aaxis": {
            "gridcolor": "white",
            "linecolor": "white",
            "ticks": ""
           },
           "baxis": {
            "gridcolor": "white",
            "linecolor": "white",
            "ticks": ""
           },
           "bgcolor": "#E5ECF6",
           "caxis": {
            "gridcolor": "white",
            "linecolor": "white",
            "ticks": ""
           }
          },
          "title": {
           "x": 0.05
          },
          "xaxis": {
           "automargin": true,
           "gridcolor": "white",
           "linecolor": "white",
           "ticks": "",
           "title": {
            "standoff": 15
           },
           "zerolinecolor": "white",
           "zerolinewidth": 2
          },
          "yaxis": {
           "automargin": true,
           "gridcolor": "white",
           "linecolor": "white",
           "ticks": "",
           "title": {
            "standoff": 15
           },
           "zerolinecolor": "white",
           "zerolinewidth": 2
          }
         }
        },
        "title": {
         "text": "Cryptocurrency Market Cap Distribution"
        },
        "uniformtext": {
         "minsize": 10
        }
       }
      }
     },
     "metadata": {},
     "output_type": "display_data"
    }
   ],
   "source": [
    "live_crypto_analysis()"
   ]
  },
  {
   "cell_type": "code",
   "execution_count": null,
   "metadata": {},
   "outputs": [],
   "source": []
  }
 ],
 "metadata": {
  "kernelspec": {
   "display_name": "venv",
   "language": "python",
   "name": "python3"
  },
  "language_info": {
   "codemirror_mode": {
    "name": "ipython",
    "version": 3
   },
   "file_extension": ".py",
   "mimetype": "text/x-python",
   "name": "python",
   "nbconvert_exporter": "python",
   "pygments_lexer": "ipython3",
   "version": "3.10.7"
  }
 },
 "nbformat": 4,
 "nbformat_minor": 2
}
